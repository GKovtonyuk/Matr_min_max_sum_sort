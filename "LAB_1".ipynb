{
  "nbformat": 4,
  "nbformat_minor": 0,
  "metadata": {
    "colab": {
      "provenance": [],
      "toc_visible": true,
      "include_colab_link": true
    },
    "kernelspec": {
      "name": "python3",
      "display_name": "Python 3"
    },
    "language_info": {
      "name": "python"
    }
  },
  "cells": [
    {
      "cell_type": "markdown",
      "metadata": {
        "id": "view-in-github",
        "colab_type": "text"
      },
      "source": [
        "<a href=\"https://colab.research.google.com/github/GKovtonyuk/Matr_min_max_sum_sort/blob/master/%22LAB_1%22.ipynb\" target=\"_parent\"><img src=\"https://colab.research.google.com/assets/colab-badge.svg\" alt=\"Open In Colab\"/></a>"
      ]
    },
    {
      "cell_type": "markdown",
      "source": [
        "# **Виведення тексту. Функція print()**\n"
      ],
      "metadata": {
        "id": "rIjX7LyoVSYl"
      }
    },
    {
      "cell_type": "code",
      "source": [
        "print(\"hello!\")"
      ],
      "metadata": {
        "id": "sYmes0dOJiKk"
      },
      "execution_count": null,
      "outputs": []
    },
    {
      "cell_type": "code",
      "source": [
        "print('hello')"
      ],
      "metadata": {
        "colab": {
          "base_uri": "https://localhost:8080/"
        },
        "id": "me3kdyDka3hq",
        "outputId": "ff1108f8-55f6-4c1d-f0a6-52a6c24f8d34"
      },
      "execution_count": null,
      "outputs": [
        {
          "output_type": "stream",
          "name": "stdout",
          "text": [
            "hello\n"
          ]
        }
      ]
    },
    {
      "cell_type": "code",
      "source": [
        "print('Мультфільм \"Ну постривай\"')"
      ],
      "metadata": {
        "colab": {
          "base_uri": "https://localhost:8080/"
        },
        "id": "kyPAZxNea80E",
        "outputId": "b2a398be-c788-4f6d-944a-8fb7cc2b43d5"
      },
      "execution_count": null,
      "outputs": [
        {
          "output_type": "stream",
          "name": "stdout",
          "text": [
            "Мультфільм \"Ну постривай\"\n"
          ]
        }
      ]
    },
    {
      "cell_type": "code",
      "source": [
        "print('''hello,\n",
        "hello\n",
        "hello'''  \n",
        ")"
      ],
      "metadata": {
        "colab": {
          "base_uri": "https://localhost:8080/"
        },
        "id": "1Y5R4lM8bRUd",
        "outputId": "6f3d668b-b6b3-4cff-ad45-a675a0e93b7a"
      },
      "execution_count": null,
      "outputs": [
        {
          "output_type": "stream",
          "name": "stdout",
          "text": [
            "hello,\n",
            "hello\n",
            "hello\n"
          ]
        }
      ]
    },
    {
      "cell_type": "code",
      "source": [
        "print(2+3)"
      ],
      "metadata": {
        "colab": {
          "base_uri": "https://localhost:8080/"
        },
        "id": "uHHYIiDPbns-",
        "outputId": "2dd4f80e-2983-464e-ae07-45a657ece28b"
      },
      "execution_count": null,
      "outputs": [
        {
          "output_type": "stream",
          "name": "stdout",
          "text": [
            "5\n"
          ]
        }
      ]
    },
    {
      "cell_type": "code",
      "source": [
        "print(\"2+3=\",2+3, sep=\"\")"
      ],
      "metadata": {
        "colab": {
          "base_uri": "https://localhost:8080/"
        },
        "id": "N_yuK9rUbwMX",
        "outputId": "15b89df4-2f24-4b7f-abac-49007d8fec78"
      },
      "execution_count": null,
      "outputs": [
        {
          "output_type": "stream",
          "name": "stdout",
          "text": [
            "2+3=5\n"
          ]
        }
      ]
    },
    {
      "cell_type": "code",
      "source": [
        "print(\"2+3=\",2+3,sep=\"\")"
      ],
      "metadata": {
        "colab": {
          "base_uri": "https://localhost:8080/"
        },
        "id": "Fkn3uhQkcJiF",
        "outputId": "2804451e-c85a-4e6b-ea6f-bddf8a17125c"
      },
      "execution_count": null,
      "outputs": [
        {
          "output_type": "stream",
          "name": "stdout",
          "text": [
            "2+3=5\n"
          ]
        }
      ]
    },
    {
      "cell_type": "code",
      "source": [
        "print(1)\n",
        "print(2)\n",
        "print(3)"
      ],
      "metadata": {
        "colab": {
          "base_uri": "https://localhost:8080/"
        },
        "id": "Jw6qgD2QcSc-",
        "outputId": "a7e99bb3-beef-470b-8f2c-babc9cc806f8"
      },
      "execution_count": null,
      "outputs": [
        {
          "output_type": "stream",
          "name": "stdout",
          "text": [
            "1\n",
            "2\n",
            "3\n"
          ]
        }
      ]
    },
    {
      "cell_type": "code",
      "source": [
        "print(1,end='')\n",
        "print(2)\n",
        "print(3)"
      ],
      "metadata": {
        "colab": {
          "base_uri": "https://localhost:8080/"
        },
        "id": "XkZ9M7qjcaje",
        "outputId": "4b635039-e076-49de-b54d-cf348dace710"
      },
      "execution_count": null,
      "outputs": [
        {
          "output_type": "stream",
          "name": "stdout",
          "text": [
            "12\n",
            "3\n"
          ]
        }
      ]
    },
    {
      "cell_type": "code",
      "source": [
        "print(1,2,3)"
      ],
      "metadata": {
        "colab": {
          "base_uri": "https://localhost:8080/"
        },
        "id": "H1y6b_AcclC1",
        "outputId": "a743a866-7990-4027-c68e-9657e0d94f6f"
      },
      "execution_count": null,
      "outputs": [
        {
          "output_type": "stream",
          "name": "stdout",
          "text": [
            "1 2 3\n"
          ]
        }
      ]
    },
    {
      "cell_type": "code",
      "source": [
        "print(1,2,3,sep=\",\")"
      ],
      "metadata": {
        "colab": {
          "base_uri": "https://localhost:8080/"
        },
        "id": "W1tm09lScpQs",
        "outputId": "9e0842f0-89d0-42f9-a222-b0c51494b1e3"
      },
      "execution_count": null,
      "outputs": [
        {
          "output_type": "stream",
          "name": "stdout",
          "text": [
            "1,2,3\n"
          ]
        }
      ]
    },
    {
      "cell_type": "markdown",
      "source": [
        "# **Змінна**"
      ],
      "metadata": {
        "id": "y5CYV7sg9Qiv"
      }
    },
    {
      "cell_type": "markdown",
      "source": [
        "**Змінна** - це величина, яка має ім'я, тип і значення. \n",
        "**Ідентифікатор** - це ім'я змінної.\n",
        "Значення змінної може змінюватися під час виконання програми."
      ],
      "metadata": {
        "id": "AgErl8Q2czMa"
      }
    },
    {
      "cell_type": "code",
      "source": [
        "a=2\n",
        "print(a)\n",
        "a=5\n",
        "print(a+1)\n",
        "\n"
      ],
      "metadata": {
        "id": "ikHCUKZEZhvU",
        "colab": {
          "base_uri": "https://localhost:8080/"
        },
        "outputId": "e95acbf3-a44a-444d-fa33-a997d06aea0d"
      },
      "execution_count": null,
      "outputs": [
        {
          "output_type": "stream",
          "name": "stdout",
          "text": [
            "2\n",
            "6\n"
          ]
        }
      ]
    },
    {
      "cell_type": "code",
      "source": [
        "name=\"Програма мовою Python\"\n",
        "print(name)\n",
        "name=\"Vika\"\n",
        "print(name)\n",
        "print('string '*5)\n",
        "\n"
      ],
      "metadata": {
        "id": "CtMFkTfu6-Ji",
        "colab": {
          "base_uri": "https://localhost:8080/"
        },
        "outputId": "84fc3725-34d1-40fe-c790-9c4aa401efea"
      },
      "execution_count": null,
      "outputs": [
        {
          "output_type": "stream",
          "name": "stdout",
          "text": [
            "Програма мовою Python\n",
            "Vika\n",
            "string string string string string \n"
          ]
        }
      ]
    },
    {
      "cell_type": "markdown",
      "source": [
        "1. Визначити, які з наступних ідентифікатрів допустимі, а які ні.\n",
        "*   1\n",
        "*   chuslo\n",
        "*   chuslo-1\n",
        "*   @gmail_ua\n",
        "*   chuslo1\n",
        "*   1chuslo\n",
        "*   chuslo 1\n",
        "*   Сума\n",
        "*   python_10\n",
        "*   python.10\n",
        "*   Мова Пайтон\n",
        "*  \"Python cod\"\n",
        "*   Python(3)\n",
        "\n",
        "\n",
        "\n",
        "\n",
        "\n",
        "\n",
        "\n",
        "\n",
        "\n",
        "\n",
        "\n",
        "\n",
        "\n",
        "\n",
        "\n",
        "\n",
        "\n",
        "\n",
        "\n",
        " \n",
        "\n",
        "\n",
        "\n",
        "\n",
        "\n",
        "\n",
        "\n",
        "\n",
        "\n",
        "\n",
        "\n"
      ],
      "metadata": {
        "id": "JinW9hg-191E"
      }
    },
    {
      "cell_type": "code",
      "source": [],
      "metadata": {
        "id": "-uJ_LKhe_w92"
      },
      "execution_count": null,
      "outputs": []
    },
    {
      "cell_type": "markdown",
      "source": [
        "2. Визначити тип змінної, використати функцію **type**()\n",
        "\n",
        "\n",
        "*   string='Мова програмування'\n",
        "*   const=200\n",
        "*   chuslo=12.5\n",
        "*   chuslo=1000\n",
        "\n",
        "\n",
        "\n"
      ],
      "metadata": {
        "id": "Zq0Kruvx5Ucg"
      }
    },
    {
      "cell_type": "code",
      "source": [
        "string='Мова програмування'\n",
        "print(type(string))\n",
        "\n",
        "\n"
      ],
      "metadata": {
        "id": "xoSzSLb__wRg",
        "colab": {
          "base_uri": "https://localhost:8080/"
        },
        "outputId": "e9407b29-d540-4ee9-eed7-7b784f2dd0aa"
      },
      "execution_count": null,
      "outputs": [
        {
          "output_type": "stream",
          "name": "stdout",
          "text": [
            "<class 'str'>\n"
          ]
        }
      ]
    },
    {
      "cell_type": "markdown",
      "source": [
        "3. Початкові значення a=4 і b=7.Які нові значення отримають змінні після виконання програми:\n",
        "* a=a+1\n",
        "* b=b+1\n",
        "* a=a+b\n",
        "* b=b+a\n",
        "* a=a+1"
      ],
      "metadata": {
        "id": "KExPO89M7P0V"
      }
    },
    {
      "cell_type": "code",
      "source": [
        "a=4\n",
        "b=7\n",
        "print(a,b)\n",
        "a=a+1\n",
        "b=b+1\n",
        "a=a+b\n",
        "b=b+a\n",
        "a=a+1\n",
        "print(a,b)\n",
        "\n"
      ],
      "metadata": {
        "id": "RuvdBGbg6wgB",
        "colab": {
          "base_uri": "https://localhost:8080/"
        },
        "outputId": "c0fbf466-adc6-4d23-8bf3-aa10e6be7fe0"
      },
      "execution_count": null,
      "outputs": [
        {
          "output_type": "stream",
          "name": "stdout",
          "text": [
            "4 7\n",
            "14 21\n"
          ]
        }
      ]
    },
    {
      "cell_type": "markdown",
      "source": [
        "4. Що буде виведено при виконанні команди при a=5, b=3?\n",
        "\n",
        "* print( a, \">\", b, \"!\" )\n",
        "* print( \"a>\", \"b!\" )\n",
        "* print( \"(\", a, \")<(\", a+b, \")\" )\n",
        "\n",
        "\n"
      ],
      "metadata": {
        "id": "8H3AK7DRVPpU"
      }
    },
    {
      "cell_type": "code",
      "source": [
        "a=5\n",
        "b=3\n",
        "print( a, \">\", b, \"!\" )\n"
      ],
      "metadata": {
        "id": "CUDqcmEW6x24",
        "colab": {
          "base_uri": "https://localhost:8080/"
        },
        "outputId": "51ed2505-03d3-4333-8297-40254efdf22c"
      },
      "execution_count": null,
      "outputs": [
        {
          "output_type": "stream",
          "name": "stdout",
          "text": [
            "5 > 3 !\n"
          ]
        }
      ]
    },
    {
      "cell_type": "markdown",
      "source": [
        "5. Обчислити значення дійсної змінної при a = 2 і\n",
        "b = 3: \n",
        "\n",
        "\n",
        "1. с = a + 1 / 3\n",
        "2. с = a + 4 / 2 * 3 + 6\n",
        "3. с = (a + 4) / 2 * 3\n",
        "4. с = (a + 4) /(b + 3)*a \n",
        "\n",
        "\n",
        "\n",
        "\n"
      ],
      "metadata": {
        "id": "a9rH1ftb8GCq"
      }
    },
    {
      "cell_type": "code",
      "source": [
        "a=2\n",
        "b=3\n",
        "c=a+1/3\n",
        "print(c)"
      ],
      "metadata": {
        "id": "lQDfyS-S-wsg"
      },
      "execution_count": null,
      "outputs": []
    },
    {
      "cell_type": "markdown",
      "source": [
        "6. Обчисліть значення цілочислової змінної при a = 26\n",
        "і b = 6:\n",
        "* c = a % b + b\n",
        "* c = a // b + a  \n",
        "* b = a // b\n",
        "* c = a // b\n",
        "* b = a // b + b\n",
        "* c = a % b + a\n",
        "* b = a % b + 4\n",
        "* c = a % b + 1\n",
        "* b = a // b\n",
        "* c = a % (b+1)\n",
        "* b = a % b\n",
        "* c = a // (b+1)"
      ],
      "metadata": {
        "id": "frEm20sB-xXo"
      }
    },
    {
      "cell_type": "code",
      "source": [
        "a=26\n",
        "b=6\n",
        "print(a%b+b)\n",
        "print(a//b+a)\n"
      ],
      "metadata": {
        "colab": {
          "base_uri": "https://localhost:8080/"
        },
        "id": "woMogg0WplJ7",
        "outputId": "09114ddf-84a6-44da-d446-1b8be253ae82"
      },
      "execution_count": null,
      "outputs": [
        {
          "output_type": "stream",
          "name": "stdout",
          "text": [
            "8\n",
            "30\n"
          ]
        }
      ]
    },
    {
      "cell_type": "markdown",
      "source": [
        "# Введення даних з клавіатури. Функція **input()**"
      ],
      "metadata": {
        "id": "51-Q3z4gD6a3"
      }
    },
    {
      "cell_type": "markdown",
      "source": [
        "7. Ввести з клавіатури три цілих числа, знайти їх суму, добуток і середнє арифметичне. \n",
        "Наприклад:\n",
        "Введіть три числа:\n",
        "\n",
        "* 5  \n",
        "* 7   \n",
        "* 8\n",
        "*   5+7+8=20\n",
        "* 5*7*8=280\n",
        "* (5+7+8)/3=6.667\n"
      ],
      "metadata": {
        "id": "2amvKo2LEIOY"
      }
    },
    {
      "cell_type": "code",
      "source": [
        "a=int(input(\"a=\"))\n",
        "b=int(input(\"b=\"))\n",
        "s=a+b\n",
        "print(\"suma=\",s,sep=\"\")\n",
        "ser=s/2\n",
        "print(\"ser=\",ser,sep=\"\")\n"
      ],
      "metadata": {
        "id": "EjffxUcGwbIG"
      },
      "execution_count": null,
      "outputs": []
    },
    {
      "cell_type": "markdown",
      "source": [
        "8. Модифікувати попередній код програми (7). Ввести з клавіатури три цілих числа в рядок, використовуючи функцію map"
      ],
      "metadata": {
        "id": "bYe47TmjHGLT"
      }
    },
    {
      "cell_type": "code",
      "source": [],
      "metadata": {
        "id": "Ds9X7OJ3hl7p"
      },
      "execution_count": null,
      "outputs": []
    },
    {
      "cell_type": "markdown",
      "source": [
        "9. Випрате помилки в операторі виведення.\n",
        "print(\"c\",\"-b\",=,a)\n",
        "так щоб при a=4, b=5 i c=9 програма вивела 9-5=4\n"
      ],
      "metadata": {
        "id": "WUpoU6-2FRuN"
      }
    },
    {
      "cell_type": "code",
      "source": [],
      "metadata": {
        "id": "HBcnIfEYIEaj"
      },
      "execution_count": null,
      "outputs": []
    },
    {
      "cell_type": "markdown",
      "source": [
        "#**Форматне виведення даних на екран** "
      ],
      "metadata": {
        "id": "Te4lV2NDJxh1"
      }
    },
    {
      "cell_type": "markdown",
      "source": [
        "Функція print() вставляє по одному пробілу між елементами списку виведення:"
      ],
      "metadata": {
        "id": "KaCa6UM-I3P8"
      }
    },
    {
      "cell_type": "code",
      "source": [
        "a=4\n",
        "b=5\n",
        "c=100\n",
        "print(a,b,c)"
      ],
      "metadata": {
        "id": "ezYJzol3J6oF",
        "colab": {
          "base_uri": "https://localhost:8080/"
        },
        "outputId": "7d3df070-ebf3-447f-c567-88afd5a77f09"
      },
      "execution_count": null,
      "outputs": [
        {
          "output_type": "stream",
          "name": "stdout",
          "text": [
            "4 5 100\n"
          ]
        }
      ]
    },
    {
      "cell_type": "markdown",
      "source": [
        "Форматне виведення, рядок для виведення будується за допомогою вбудованої функції format"
      ],
      "metadata": {
        "id": "k4EkZUT0KrtT"
      }
    },
    {
      "cell_type": "code",
      "source": [
        "a=2\n",
        "d=3\n",
        "c=56\n",
        "print(\"{:4}{:4}{:6}\".format(a,b,c))"
      ],
      "metadata": {
        "id": "GvA1NwP0LOTS",
        "colab": {
          "base_uri": "https://localhost:8080/"
        },
        "outputId": "13781e31-8402-4fc3-b253-c1a876bf7eb0"
      },
      "execution_count": null,
      "outputs": [
        {
          "output_type": "stream",
          "name": "stdout",
          "text": [
            "   2   5    56\n"
          ]
        }
      ]
    },
    {
      "cell_type": "markdown",
      "source": [
        "\"{} \"- це форматний рядок, яка визначає, як саме буде дані будуть виведені на екран\n",
        "Фігурні дужки {} визначають місце для виведення наступного елемента: на першому  місці виводиться значення a, на другому b, на третьому c, в порядку їх перерахування в списку аргументів функції format. Число після двокрапки визначає кількість позицій, які виділяються для запису числа"
      ],
      "metadata": {
        "id": "EaCbVJrmLdZ8"
      }
    },
    {
      "cell_type": "markdown",
      "source": [
        "Кількість позицій можна не вказувати"
      ],
      "metadata": {
        "id": "FgDM8VD_Nlg7"
      }
    },
    {
      "cell_type": "code",
      "source": [
        "a=2\n",
        "b=3\n",
        "c=56\n",
        "print(\"{}{}{}\".format(a,b,c))"
      ],
      "metadata": {
        "id": "ebmmCpZcNheQ",
        "colab": {
          "base_uri": "https://localhost:8080/"
        },
        "outputId": "f4537737-2d68-415e-9de8-f3e877746036"
      },
      "execution_count": null,
      "outputs": [
        {
          "output_type": "stream",
          "name": "stdout",
          "text": [
            "2356\n"
          ]
        }
      ]
    },
    {
      "cell_type": "markdown",
      "source": [
        "Між даними в списку можна виводити"
      ],
      "metadata": {
        "id": "2DtWyovuOFsA"
      }
    },
    {
      "cell_type": "code",
      "source": [
        "a=2\n",
        "b=3\n",
        "\n",
        "print(\"{}+{}={}\".format(a,b,a+b))"
      ],
      "metadata": {
        "id": "1R3Y44_5Lj3y",
        "colab": {
          "base_uri": "https://localhost:8080/"
        },
        "outputId": "d16d04b8-4109-4cb1-c2c7-ac9df02fd53f"
      },
      "execution_count": null,
      "outputs": [
        {
          "output_type": "stream",
          "name": "stdout",
          "text": [
            "2+3=5\n"
          ]
        }
      ]
    },
    {
      "cell_type": "markdown",
      "source": [
        "Виведення дійсних чисел"
      ],
      "metadata": {
        "id": "ljq3_89uRUGU"
      }
    },
    {
      "cell_type": "code",
      "source": [
        "a=26/3\n",
        "print(26/3)\n",
        "print(\"a={:4.4f}\".format(a))"
      ],
      "metadata": {
        "id": "Rc8HAIHERd8C",
        "colab": {
          "base_uri": "https://localhost:8080/"
        },
        "outputId": "4394b4b2-682a-463c-a0ed-169102bc16f9"
      },
      "execution_count": null,
      "outputs": [
        {
          "output_type": "stream",
          "name": "stdout",
          "text": [
            "8.666666666666666\n",
            "a=8.6667\n"
          ]
        }
      ]
    },
    {
      "cell_type": "markdown",
      "source": [
        "Для дуже великих і малих чисел використовують науковий формат, позначається буквою e"
      ],
      "metadata": {
        "id": "OsDPC-tPSxcK"
      }
    },
    {
      "cell_type": "code",
      "source": [
        "a=1e10/7\n",
        "print(\"a={:12.4e}\".format(a))\n"
      ],
      "metadata": {
        "colab": {
          "base_uri": "https://localhost:8080/"
        },
        "id": "rWhUA8cgTCSJ",
        "outputId": "bbba712c-7c7d-4c7c-8275-99b9b0c3591e"
      },
      "execution_count": null,
      "outputs": [
        {
          "output_type": "stream",
          "name": "stdout",
          "text": [
            "a=  1.4286e+09\n"
          ]
        }
      ]
    }
  ]
}